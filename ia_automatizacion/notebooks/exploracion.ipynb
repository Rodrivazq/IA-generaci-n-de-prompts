{
 "cells": [
  {
   "cell_type": "markdown",
   "id": "af48be6f",
   "metadata": {},
   "source": [
    "#### Trabajo Final: Automatización Inteligente de Clasificación de Textos\n",
    "\n",
    "Resumen\n",
    "\n",
    "El objetivo de este proyecto es diseñar y demostrar un sistema capaz de automatizar la clasificación de mensajes de texto utilizando técnicas de Inteligencia Artificial.  \n",
    "Se utiliza Python y scikit-learn para construir un modelo de clasificación, procesar los datos y mostrar los resultados, con potencial de aplicar la automatización en distintos contextos reales.\n"
   ]
  },
  {
   "cell_type": "markdown",
   "id": "387ee0c1",
   "metadata": {},
   "source": [
    "Índice\n",
    "\n",
    "1. Introducción  \n",
    "2. Objetivos  \n",
    "3. Metodología  \n",
    "4. Herramientas y Tecnologías  \n",
    "5. Implementación  \n",
    "    5.1 Recopilación de Datos  \n",
    "    5.2 Preprocesamiento  \n",
    "    5.3 Entrenamiento del Modelo  \n",
    "    5.4 Resultados y Análisis  \n",
    "6. Conclusiones  \n",
    "7. Referencias\n"
   ]
  },
  {
   "cell_type": "markdown",
   "id": "6d96d5d2",
   "metadata": {},
   "source": [
    "### 1. Introducción\n",
    "\n",
    "En la era digital, el procesamiento automático de grandes volúmenes de texto es fundamental para mejorar la eficiencia de las empresas y organizaciones. Este trabajo busca demostrar cómo la inteligencia artificial puede ser aplicada para automatizar tareas como la clasificación de mensajes, reclamos, consultas y otros tipos de texto, contribuyendo así a la optimización de procesos internos.\n"
   ]
  },
  {
   "cell_type": "markdown",
   "id": "5683433d",
   "metadata": {},
   "source": [
    "### 2. Objetivos\n",
    "\n",
    "Automatizar la clasificación de mensajes de texto usando IA.\n",
    "Demostrar la facilidad de adaptación del sistema a nuevos contextos.\n",
    "Proveer una base escalable para futuras automatizaciones inteligentes."
   ]
  },
  {
   "cell_type": "markdown",
   "id": "04ffdd26",
   "metadata": {},
   "source": [
    "### 3. Metodología\n",
    "\n",
    "1. Recopilar datos de texto representativos de diferentes categorías.\n",
    "2. Preprocesar y vectorizar los textos para ser interpretados por el modelo.\n",
    "3. Entrenar un modelo de clasificación.\n",
    "4. Evaluar el modelo y analizar sus resultados.\n"
   ]
  },
  {
   "cell_type": "markdown",
   "id": "ae87fe1c",
   "metadata": {},
   "source": [
    "### 4. Herramientas y Tecnologías\n",
    "\n",
    "Python 3.11+\n",
    "scikit-learn\n",
    "pandas / numpy\n",
    "matplotlib / seaborn (para visualización)\n",
    "Jupyter Notebook\n"
   ]
  },
  {
   "cell_type": "markdown",
   "id": "dd529740",
   "metadata": {},
   "source": [
    "#### 5.1 Recopilación de Datos\n",
    "\n",
    "Se utiliza un pequeño dataset simulado de mensajes y sus categorías asociadas, que podría expandirse fácilmente para tareas reales.\n"
   ]
  },
  {
   "cell_type": "code",
   "execution_count": 12,
   "id": "5c7d546e",
   "metadata": {},
   "outputs": [
    {
     "name": "stdout",
     "output_type": "stream",
     "text": [
      "Primeros mensajes: ['No puedo acceder a mi cuenta', 'Consulta sobre precios y promociones', 'El producto llegó dañado']\n",
      "Primeras etiquetas: ['Soporte Técnico', 'Consultas Generales', 'Reclamos']\n"
     ]
    }
   ],
   "source": [
    "import sys\n",
    "sys.path.append(\"../src\")\n",
    "from processor import load_data\n",
    "\n",
    "# Cambia el path si tu archivo está en otra ubicación\n",
    "textos, etiquetas = load_data(\"../data/input.txt\")\n",
    "print(\"Primeros mensajes:\", textos[:3])\n",
    "print(\"Primeras etiquetas:\", etiquetas[:3])\n"
   ]
  },
  {
   "cell_type": "markdown",
   "id": "b42f82f8",
   "metadata": {},
   "source": [
    "#### 5.2 Preprocesamiento\n",
    "\n",
    "Se vectorizan los textos usando TF-IDF para que puedan ser procesados por el modelo.\n"
   ]
  },
  {
   "cell_type": "code",
   "execution_count": 13,
   "id": "5026fae1",
   "metadata": {},
   "outputs": [
    {
     "name": "stdout",
     "output_type": "stream",
     "text": [
      "Shape de matriz de features: (10, 40)\n"
     ]
    }
   ],
   "source": [
    "from processor import preprocess_data\n",
    "\n",
    "X, vectorizer = preprocess_data(textos)\n",
    "print(\"Shape de matriz de features:\", X.shape)\n"
   ]
  },
  {
   "cell_type": "markdown",
   "id": "77fdaf9e",
   "metadata": {},
   "source": [
    "#### 5.3 Entrenamiento del Modelo\n",
    "\n",
    "Entrenamos un clasificador Naive Bayes sobre los textos vectorizados.\n"
   ]
  },
  {
   "cell_type": "code",
   "execution_count": 14,
   "id": "55dc357a",
   "metadata": {},
   "outputs": [
    {
     "name": "stdout",
     "output_type": "stream",
     "text": [
      "Clasificador entrenado.\n"
     ]
    }
   ],
   "source": [
    "from classifier import TextClassifier\n",
    "\n",
    "clf = TextClassifier()\n",
    "clf.train(X, etiquetas, vectorizer)\n",
    "print(\"Clasificador entrenado.\")\n"
   ]
  },
  {
   "cell_type": "markdown",
   "id": "792c9a0f",
   "metadata": {},
   "source": [
    "#### 5.4 Resultados y Análisis\n",
    "\n",
    "Probamos la clasificación sobre el dataset de prueba y analizamos los resultados.\n"
   ]
  },
  {
   "cell_type": "code",
   "execution_count": 15,
   "id": "e1f1c8d9",
   "metadata": {},
   "outputs": [
    {
     "name": "stdout",
     "output_type": "stream",
     "text": [
      "1. 'No puedo acceder a mi cuenta' | Real: Soporte Técnico | Predicción: Soporte Técnico\n",
      "2. 'Consulta sobre precios y promociones' | Real: Consultas Generales | Predicción: Consultas Generales\n",
      "3. 'El producto llegó dañado' | Real: Reclamos | Predicción: Reclamos\n",
      "4. 'Necesito ayuda con mi contraseña' | Real: Soporte Técnico | Predicción: Soporte Técnico\n",
      "5. '¿Cuáles son los métodos de pago?' | Real: Consultas Generales | Predicción: Consultas Generales\n",
      "6. 'Quiero devolver un artículo' | Real: Reclamos | Predicción: Reclamos\n",
      "7. 'Me cobraron mal en la factura' | Real: Reclamos | Predicción: Reclamos\n",
      "8. '¿Cuánto demora el envío?' | Real: Consultas Generales | Predicción: Consultas Generales\n",
      "9. 'No puedo instalar el software' | Real: Soporte Técnico | Predicción: Soporte Técnico\n",
      "10. 'Quiero cancelar mi suscripción' | Real: Consultas Generales | Predicción: Consultas Generales\n"
     ]
    }
   ],
   "source": [
    "# Predicción y comparación\n",
    "predicciones = clf.predict(textos)\n",
    "\n",
    "for i, (mensaje, real, pred) in enumerate(zip(textos, etiquetas, predicciones), 1):\n",
    "    print(f\"{i}. '{mensaje}' | Real: {real} | Predicción: {pred}\")\n",
    "\n"
   ]
  },
  {
   "cell_type": "markdown",
   "id": "fb6f9ff6",
   "metadata": {},
   "source": [
    " #### 5.4 Resultados y Análisis - Visualización de Resultados\n",
    "Se pueden visualizar los resultados con gráficos simples."
   ]
  },
  {
   "cell_type": "code",
   "execution_count": 16,
   "id": "5bef90ca",
   "metadata": {},
   "outputs": [
    {
     "data": {
      "image/png": "[encoded data removed]",
      "text/plain": [
       "<Figure size 1000x400 with 2 Axes>"
      ]
     },
     "metadata": {},
     "output_type": "display_data"
    }
   ],
   "source": [
    "import matplotlib.pyplot as plt\n",
    "from collections import Counter\n",
    "\n",
    "# Conteo de etiquetas reales y predichas\n",
    "real_count = Counter(etiquetas)\n",
    "pred_count = Counter(predicciones)\n",
    "\n",
    "# Graficar etiquetas reales\n",
    "plt.figure(figsize=(10,4))\n",
    "plt.subplot(1,2,1)\n",
    "plt.bar(real_count.keys(), real_count.values(), color='blue')\n",
    "plt.title('Distribución de Etiquetas Reales')\n",
    "plt.xticks(rotation=30)\n",
    "\n",
    "# Graficar etiquetas predichas\n",
    "plt.subplot(1,2,2)\n",
    "plt.bar(pred_count.keys(), pred_count.values(), color='orange')\n",
    "plt.title('Distribución de Predicciones')\n",
    "plt.xticks(rotation=30)\n",
    "plt.tight_layout()\n",
    "plt.show()\n"
   ]
  },
  {
   "cell_type": "markdown",
   "id": "85bbcc3b",
   "metadata": {},
   "source": [
    "### 6. Conclusiones\n",
    "\n",
    "El sistema demostró ser capaz de clasificar textos automáticamente con alta precisión sobre el set de ejemplo.  \n",
    "Esto sienta las bases para aplicaciones más complejas en atención al cliente, análisis de encuestas y otros contextos donde la automatización inteligente del texto puede aportar valor real.\n"
   ]
  },
  {
   "cell_type": "markdown",
   "id": "c3c8e379",
   "metadata": {},
   "source": [
    "### 7. Referencias\n",
    "\n",
    "- [Documentación de scikit-learn](https://scikit-learn.org/)\n",
    "- Curso Coderhouse: Generación de Prompts con IA, 2025.\n"
   ]
  }
 ],
 "metadata": {
  "kernelspec": {
   "display_name": "jupyter-env",
   "language": "python",
   "name": "python3"
  },
  "language_info": {
   "codemirror_mode": {
    "name": "ipython",
    "version": 3
   },
   "file_extension": ".py",
   "mimetype": "text/x-python",
   "name": "python",
   "nbconvert_exporter": "python",
   "pygments_lexer": "ipython3",
   "version": "3.13.1"
  }
 },
 "nbformat": 4,
 "nbformat_minor": 5
}
